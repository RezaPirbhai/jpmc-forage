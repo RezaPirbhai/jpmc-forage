{
 "cells": [
  {
   "cell_type": "code",
   "execution_count": 3,
   "id": "fe73afc8",
   "metadata": {},
   "outputs": [
    {
     "name": "stdout",
     "output_type": "stream",
     "text": [
      "Bucket boundaries: [408.0, 521.0, 581.0, 641.0, 697.0]\n"
     ]
    }
   ],
   "source": [
    "import numpy as np\n",
    "import pandas as pd\n",
    "\n",
    "def optimal_bucketing(df, B):\n",
    "    # 1) collapse identical scores\n",
    "    g = df.groupby('fico_score')['default'].agg(['count', 'sum']).reset_index()\n",
    "    scores   = g['fico_score' ].to_numpy()\n",
    "    totals   = g['count'     ].to_numpy()\n",
    "    defaults = g['sum'       ].to_numpy()\n",
    "    m        = len(scores)                  # ≤ 551\n",
    "\n",
    "    # 2) prefix sums\n",
    "    cum_tot = np.concatenate(([0], np.cumsum(totals   )))\n",
    "    cum_def = np.concatenate(([0], np.cumsum(defaults )))\n",
    "\n",
    "    def bucket_ll(s, e):                    # half-open [s,e)\n",
    "        k = cum_def[e] - cum_def[s]\n",
    "        n = cum_tot[e] - cum_tot[s]\n",
    "        if k == 0 or k == n:\n",
    "            return 0.0\n",
    "        p = k / n\n",
    "        return k*np.log(p) + (n-k)*np.log(1-p)\n",
    "\n",
    "    # 3) DP  (m is now small)\n",
    "    dp        = np.full((m+1, B+1), -np.inf)\n",
    "    backtrack = np.full((m+1, B+1), -1, dtype=int)\n",
    "    dp[0, 0]  = 0.0\n",
    "\n",
    "    for b in range(1, B+1):\n",
    "        for i in range(b, m+1):\n",
    "            best = -np.inf\n",
    "            best_j = -1\n",
    "            for j in range(b-1, i):\n",
    "                cand = dp[j, b-1] + bucket_ll(j, i)\n",
    "                if cand > best:\n",
    "                    best, best_j = cand, j\n",
    "            dp[i, b] = best\n",
    "            backtrack[i, b] = best_j\n",
    "\n",
    "    # 4) recover boundaries\n",
    "    cuts = []\n",
    "    i, b = m, B\n",
    "    while b > 0:\n",
    "        j = backtrack[i, b]\n",
    "        cuts.append(scores[j])    # first score in bucket\n",
    "        i, b = j, b-1\n",
    "    cuts = [float(c) for c in cuts]\n",
    "    return sorted(cuts)\n",
    "\n",
    "# ---------------- driver ----------------\n",
    "df  = pd.read_csv(\"3_and_4_Loan_Data.csv\")\n",
    "B   = 5\n",
    "cuts = optimal_bucketing(df[['fico_score', 'default']], B)\n",
    "print(\"Bucket boundaries:\", cuts)\n"
   ]
  }
 ],
 "metadata": {
  "kernelspec": {
   "display_name": ".venv",
   "language": "python",
   "name": "python3"
  },
  "language_info": {
   "codemirror_mode": {
    "name": "ipython",
    "version": 3
   },
   "file_extension": ".py",
   "mimetype": "text/x-python",
   "name": "python",
   "nbconvert_exporter": "python",
   "pygments_lexer": "ipython3",
   "version": "3.10.7"
  }
 },
 "nbformat": 4,
 "nbformat_minor": 5
}
